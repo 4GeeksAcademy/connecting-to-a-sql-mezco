{
 "cells": [
  {
   "cell_type": "markdown",
   "metadata": {},
   "source": [
    "# Explora aquí\n",
    "\n",
    "Se recomienda utilizar este cuaderno con fines de exploración.\n",
    "\n",
    "Por ejemplo:\n",
    "\n",
    "1. Puede importar el CSV generado por Python a su computadora portátil y explorarlo.\n",
    "2. Puede conectarse a su base de datos usando `pandas.read_sql` desde este cuaderno y explorarla."
   ]
  },
  {
   "cell_type": "code",
   "execution_count": 2,
   "metadata": {},
   "outputs": [
    {
     "name": "stdout",
     "output_type": "stream",
     "text": [
      "Conexión exitosa a la base de datos.\n",
      "Contenido de la tabla 'books':\n",
      "   book_id                                              title  total_pages  \\\n",
      "0        1        Lean Software Development: An Agile Toolkit          240   \n",
      "1        2                  Facing the Intelligence Explosion           91   \n",
      "2        3                                    Scala in Action          419   \n",
      "3        4  Patterns of Software: Tales from the Software ...          256   \n",
      "4        5                                    Anatomy Of LISP          446   \n",
      "5        6               Computing machinery and intelligence           24   \n",
      "6        7                       XML: Visual QuickStart Guide          269   \n",
      "7        8                                       SQL Cookbook          595   \n",
      "8        9  The Apollo Guidance Computer: Architecture And...          439   \n",
      "9       10  Minds and Computers: An Introduction to the Ph...          222   \n",
      "\n",
      "   rating           isbn published_date  publisher_id  \n",
      "0    4.17  9780320000000     2003-05-18             5  \n",
      "1    3.87           None     2013-02-01             7  \n",
      "2    3.74  9781940000000     2013-04-10             1  \n",
      "3    3.84  9780200000000     1996-08-15             1  \n",
      "4    4.43  9780070000000     1978-01-01             3  \n",
      "5    4.17           None     2009-03-22             4  \n",
      "6    3.66  9780320000000     2009-01-01             5  \n",
      "7    3.95  9780600000000     2005-12-01             7  \n",
      "8    4.29  9781440000000     2010-07-01             6  \n",
      "9    3.54  9780750000000     2007-02-13             7  \n",
      "Tabla 'books' exportada a books.csv\n",
      "Conexión cerrada.\n"
     ]
    },
    {
     "name": "stderr",
     "output_type": "stream",
     "text": [
      "/tmp/ipykernel_2530/1163005961.py:19: UserWarning: pandas only supports SQLAlchemy connectable (engine/connection) or database string URI or sqlite3 DBAPI2 connection. Other DBAPI2 objects are not tested. Please consider using SQLAlchemy.\n",
      "  df = pd.read_sql_query(query, con=connection)\n"
     ]
    }
   ],
   "source": [
    "import os\n",
    "from dotenv import load_dotenv\n",
    "from sqlalchemy import create_engine\n",
    "import pandas as pd\n",
    "\n",
    "# Cargar variables del archivo .env\n",
    "load_dotenv()\n",
    "\n",
    "# Crear el motor de conexión con SQLAlchemy\n",
    "connection_string = f\"postgresql://{os.getenv('DB_USER')}:{os.getenv('DB_PASSWORD')}@{os.getenv('DB_HOST')}/{os.getenv('DB_NAME')}\"\n",
    "try:\n",
    "    engine = create_engine(connection_string)\n",
    "    connection = engine.raw_connection()\n",
    "    print(\"Conexión exitosa a la base de datos.\")\n",
    "\n",
    "    # Función para mostrar y exportar la tabla a CSV\n",
    "    def display_and_export_table(table_name):\n",
    "        query = f\"SELECT * FROM {table_name};\"\n",
    "        df = pd.read_sql_query(query, con=connection)\n",
    "        print(f\"Contenido de la tabla '{table_name}':\")\n",
    "        print(df)  # Muestra la tabla en la terminal\n",
    "\n",
    "        # Exportar a CSV\n",
    "        csv_path = f\"{table_name}.csv\"\n",
    "        df.to_csv(csv_path, index=False)\n",
    "        print(f\"Tabla '{table_name}' exportada a {csv_path}\")\n",
    "\n",
    "    # Llamada para mostrar y exportar la tabla 'books'\n",
    "    display_and_export_table('books')\n",
    "\n",
    "except Exception as e:\n",
    "    print(f\"Error de conexión: {e}\")\n",
    "\n",
    "finally:\n",
    "    # Cerrar la conexión si fue abierta exitosamente\n",
    "    if 'connection' in locals():\n",
    "        connection.close()\n",
    "        print(\"Conexión cerrada.\")\n"
   ]
  }
 ],
 "metadata": {
  "kernelspec": {
   "display_name": ".venv",
   "language": "python",
   "name": "python3"
  },
  "language_info": {
   "codemirror_mode": {
    "name": "ipython",
    "version": 3
   },
   "file_extension": ".py",
   "mimetype": "text/x-python",
   "name": "python",
   "nbconvert_exporter": "python",
   "pygments_lexer": "ipython3",
   "version": "3.12.6"
  },
  "orig_nbformat": 4
 },
 "nbformat": 4,
 "nbformat_minor": 2
}
